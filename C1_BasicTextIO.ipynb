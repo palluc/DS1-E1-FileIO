{
 "cells": [
  {
   "cell_type": "markdown",
   "id": "00703755-1cd8-4bfa-88f5-6524711d8418",
   "metadata": {},
   "source": [
    "## Inroduction to Data Science: Exercise of Basic Text File I/O "
   ]
  },
  {
   "cell_type": "markdown",
   "id": "3c8e677b-2c93-4d9e-82c4-e5e049db6bce",
   "metadata": {},
   "source": [
    "**Exercise #1 : Basic text file I/O **  \n",
    "Open the file named \"simpleio.txt\" in \"write mode\" and store the following strings in the file:  \n",
    "\"This is the first line of text\"  \n",
    "\"This is the second line of text\"  \n",
    "\"End of text\"  \n",
    "Open the file with Notepad and check the contents.   \n"
   ]
  },
  {
   "cell_type": "code",
   "execution_count": 55,
   "id": "8556a5c0-01e2-4975-85f1-bc01e64c96e9",
   "metadata": {},
   "outputs": [
    {
     "name": "stdout",
     "output_type": "stream",
     "text": [
      "['This is the first line of text']\n",
      "['This is the second line of text']\n",
      "['End of text']\n"
     ]
    }
   ],
   "source": [
    "import csv\n",
    "\n",
    "records = []\n",
    "\n",
    "rec1 = \"This is the first line of text\"\n",
    "rec2 = \"This is the second line of text\"\n",
    "rec3 = \"End of text\"\n",
    "\n",
    "with open(r'output/simpleio.txt', mode='w', newline='') as f1:\n",
    "    fwriter = csv.writer(f1)\n",
    "\n",
    "    for i in range(3):\n",
    "        newvar = 'rec' + str(i+1)\n",
    "        #print('newvar:',newvar)\n",
    "        #print('The value of {:<4} is : '.format(newvar), eval(newvar))\n",
    "        records.append([eval(newvar)])\n",
    "        print(records[i])\n",
    "        fwriter.writerow(records[i])\n",
    "    #fwriter.writerows(records)"
   ]
  },
  {
   "cell_type": "markdown",
   "id": "77ab3855-6c8e-465b-8427-609885259e3e",
   "metadata": {},
   "source": [
    "**Exercise #2**  \n",
    "Writes a script that collects 3 sets of data from the console that is user input.  \n",
    "Username, age, rating (1 – 100)  \n",
    "(i.e. \"Norman Romanotti\", 35, 75)  \n",
    "Store the data in a python list. Then write all the data to a CSV file (users_01.csv).  \n",
    "Note: Values can be all in a line and use the .split() method to separate the words by commas, or use a set of 3 input statements. \n"
   ]
  },
  {
   "cell_type": "code",
   "execution_count": 58,
   "id": "724e097b-2b2d-496e-9aa4-1e1154909abc",
   "metadata": {},
   "outputs": [
    {
     "name": "stdin",
     "output_type": "stream",
     "text": [
      "Enter the username  Luciana\n",
      "Enter the age of user 40\n",
      "Enter the rating of user 5\n",
      "Enter the username  Jake\n",
      "Enter the age of user 15\n",
      "Enter the rating of user 5\n",
      "Enter the username  Bella\n",
      "Enter the age of user 8\n",
      "Enter the rating of user 5\n"
     ]
    }
   ],
   "source": [
    "import csv\n",
    "\n",
    "records = []\n",
    "\n",
    "filehandle = open(r'output/users_01.csv', mode='w', newline='') \n",
    "fwriter = csv.writer(filehandle)\n",
    "    \n",
    "for i in range(3):\n",
    "    username = input('Enter the username ')\n",
    "    age = int(input('Enter the age of user'))\n",
    "    rating = input('Enter the rating of user')\n",
    "\n",
    "    record = [username,age,rating]\n",
    "    records.append(record)\n",
    "    #print(records)\n",
    "    #print(record)\n",
    "  \n",
    "header = ['USERNAME', 'AGE', 'RATING']\n",
    "   \n",
    "fwriter.writerow(header)\n",
    "fwriter.writerows(records)\n",
    "filehandle.close()\n",
    "\n"
   ]
  },
  {
   "cell_type": "markdown",
   "id": "71ecaea6-b77a-4817-9ee7-2effa2f717da",
   "metadata": {},
   "source": [
    "**Exercise #3**  \n",
    "Read in from from a set of files received that contain some data for some of our sensor locations.\n",
    "Afterwards, read all the data from files which have a name containing a number in the 100's.\n",
    "\n",
    "**For every file selected we need to collect all lines except those that contain the column Code equal to 3 **  \n",
    "We need to make sure that the location data contains its first letter only 'capitalize'. Transform the data if required.  \n",
    "All the selected records must be written to a final output file (text file) called: outfile.csv.\n",
    "\n"
   ]
  },
  {
   "cell_type": "code",
   "execution_count": 61,
   "id": "e4892baa-b729-4fc7-a06f-ae83eaf3eb97",
   "metadata": {},
   "outputs": [
    {
     "name": "stdout",
     "output_type": "stream",
     "text": [
      "Count of files:  7 , File list:  ['exer01a_101.csv', 'exer01b_102.csv', 'exer01c_101.csv', 'exer01d_201.csv', 'exer01e_103.csv', 'exer01f_100.csv', 'exer01f_202.csv']\n",
      "File version 101\n",
      "Records captured list: [['1', 'Montreal', '20.5', '10', '30.5'], ['1', 'Toronto', '10', '11', '12'], ['2', 'Toronto', '5', '20', '34.5'], ['2', 'Montreal', '23.5', '21.1', '21'], ['1', 'Toronto', '5', '5', '6.5']]\n",
      "File version 102\n",
      "Records captured list: [['1', 'Montreal', '20.5', '10', '30.5'], ['1', 'Toronto', '10', '11', '12'], ['2', 'Toronto', '5', '20', '34.5'], ['2', 'Montreal', '23.5', '21.1', '21'], ['1', 'Toronto', '5', '5', '6.5'], ['1', 'Montreal', '18', '10', '30.5'], ['1', 'TOronto', '10', '11', '8'], ['2', 'Toronto', '5', '31', '34.5'], ['2', 'Montreal', '23.5', '21.1', '2'], ['1', 'Toronto', '23', '5', '6.5'], ['2', 'Ottawa', '10', '10', '20']]\n",
      "File version 101\n",
      "Records captured list: [['1', 'Montreal', '20.5', '10', '30.5'], ['1', 'Toronto', '10', '11', '12'], ['2', 'Toronto', '5', '20', '34.5'], ['2', 'Montreal', '23.5', '21.1', '21'], ['1', 'Toronto', '5', '5', '6.5'], ['1', 'Montreal', '18', '10', '30.5'], ['1', 'TOronto', '10', '11', '8'], ['2', 'Toronto', '5', '31', '34.5'], ['2', 'Montreal', '23.5', '21.1', '2'], ['1', 'Toronto', '23', '5', '6.5'], ['2', 'Ottawa', '10', '10', '20'], ['2', 'Montreal', '17', '10', '30.5'], ['2', 'Toronto', '10', '4', '12'], ['2', 'Toronto', '5', '20', '6'], ['1', 'Montreal', '23.5', '5', '21'], ['1', 'Toronto', '5', '5', '7']]\n",
      "File version 201\n",
      "File version 103\n",
      "Records captured list: [['1', 'Montreal', '20.5', '10', '30.5'], ['1', 'Toronto', '10', '11', '12'], ['2', 'Toronto', '5', '20', '34.5'], ['2', 'Montreal', '23.5', '21.1', '21'], ['1', 'Toronto', '5', '5', '6.5'], ['1', 'Montreal', '18', '10', '30.5'], ['1', 'TOronto', '10', '11', '8'], ['2', 'Toronto', '5', '31', '34.5'], ['2', 'Montreal', '23.5', '21.1', '2'], ['1', 'Toronto', '23', '5', '6.5'], ['2', 'Ottawa', '10', '10', '20'], ['2', 'Montreal', '17', '10', '30.5'], ['2', 'Toronto', '10', '4', '12'], ['2', 'Toronto', '5', '20', '6'], ['1', 'Montreal', '23.5', '5', '21'], ['1', 'Toronto', '5', '5', '7'], ['1', 'Montreal', '8', '10', '30.5'], ['1', 'Toronto', '10', '11', '12'], ['2', 'Toronto', '5', '20', '6'], ['2', 'Montreal', '23.5', '21.1', '21'], ['1', 'Toronto', '5', '5', '6.5'], ['1', 'Ottawa', '3', '11', '5'], ['2', 'Ottawa', '5', '4', '34.5']]\n",
      "File version 100\n",
      "Records captured list: [['1', 'Montreal', '20.5', '10', '30.5'], ['1', 'Toronto', '10', '11', '12'], ['2', 'Toronto', '5', '20', '34.5'], ['2', 'Montreal', '23.5', '21.1', '21'], ['1', 'Toronto', '5', '5', '6.5'], ['1', 'Montreal', '18', '10', '30.5'], ['1', 'TOronto', '10', '11', '8'], ['2', 'Toronto', '5', '31', '34.5'], ['2', 'Montreal', '23.5', '21.1', '2'], ['1', 'Toronto', '23', '5', '6.5'], ['2', 'Ottawa', '10', '10', '20'], ['2', 'Montreal', '17', '10', '30.5'], ['2', 'Toronto', '10', '4', '12'], ['2', 'Toronto', '5', '20', '6'], ['1', 'Montreal', '23.5', '5', '21'], ['1', 'Toronto', '5', '5', '7'], ['1', 'Montreal', '8', '10', '30.5'], ['1', 'Toronto', '10', '11', '12'], ['2', 'Toronto', '5', '20', '6'], ['2', 'Montreal', '23.5', '21.1', '21'], ['1', 'Toronto', '5', '5', '6.5'], ['1', 'Ottawa', '3', '11', '5'], ['2', 'Ottawa', '5', '4', '34.5'], ['1', 'Montreal', '10', '6', '30'], ['1', 'Montreal', '4', '10', '7'], ['1', 'Ottawa', '3', '11', '12'], ['2', 'Ottawa', '5', '5', '34.5'], ['2', 'Montreal', '23.5', '6', '7'], ['1', 'Toronto', '8', '5', '6.5']]\n",
      "File version 202\n"
     ]
    }
   ],
   "source": [
    "# We need to read all the data from files which have a name containing a number in the 100’s.  \n",
    "# Example: exer01a_101.csv (Not exer01b_203.csv)\n",
    "\n",
    "import csv\n",
    "import os\n",
    "import string\n",
    "\n",
    "\n",
    "records = []\n",
    "\n",
    "curdir =os.getcwd()\n",
    "\n",
    "#List file in the directory path\n",
    "filepath = curdir + r'\\sourcedata'\n",
    "filelist = os.listdir(filepath)\n",
    "filecnt = len(filelist)\n",
    "\n",
    "print('Count of files: ', filecnt, ', File list: ',filelist)\n",
    "\n",
    "for file in filelist:\n",
    "    filename, fileext = os.path.splitext(file)\n",
    "    #print('filename and ext', filename, fileext)\n",
    "    ver = int(filename[-3:])\n",
    "    print('File version', ver)\n",
    "    fullfile = filepath + '\\\\' + file\n",
    "    if ver >= 100 and ver <200:\n",
    "        with open(fullfile, mode='r') as fh:\n",
    "            freader = csv.reader(fh)\n",
    "            next(freader, None)\n",
    "            for rec in freader:\n",
    "                code, area, value1, value2, value3 = rec\n",
    "                if area[0] in string.ascii_lowercase:\n",
    "                    area = area.capitalize()\n",
    "                    rec[1] = area\n",
    "                #print (area.capitalize(), area[0],rec[1])\n",
    "                if code != '3':\n",
    "                    #print('code is not 3', code)\n",
    "                    records.append(rec)\n",
    "                    #print('Code without 3',records)\n",
    "            else:\n",
    "                    print('Records captured list:',records)\n",
    "            fh.close()\n",
    "#All the selected records must be written to a final output file (text file) called: outfile.csv\n",
    "\n",
    "header = ['code','area','value1','value2','value3']\n",
    "\n",
    "fhw = open(r'output/outfile.csv', mode='w', newline='')\n",
    "fwriter = csv.writer(fhw)\n",
    "fwriter.writerow(header)\n",
    "fwriter.writerows(records)\n",
    "fhw.close()\n"
   ]
  },
  {
   "cell_type": "code",
   "execution_count": null,
   "id": "6a71b3da-cafc-4f74-813d-b94cec8a9fe1",
   "metadata": {},
   "outputs": [],
   "source": []
  }
 ],
 "metadata": {
  "kernelspec": {
   "display_name": "Python 3 (ipykernel)",
   "language": "python",
   "name": "python3"
  },
  "language_info": {
   "codemirror_mode": {
    "name": "ipython",
    "version": 3
   },
   "file_extension": ".py",
   "mimetype": "text/x-python",
   "name": "python",
   "nbconvert_exporter": "python",
   "pygments_lexer": "ipython3",
   "version": "3.12.7"
  }
 },
 "nbformat": 4,
 "nbformat_minor": 5
}
